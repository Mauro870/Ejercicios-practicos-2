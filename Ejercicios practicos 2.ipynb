{
 "cells": [
  {
   "cell_type": "markdown",
   "metadata": {},
   "source": [
    "1.Diseñe una aplicación para obtener datos de sitios web en internet a través de peticiones de tipo \"GET\". El sitio web envía una respuesta luego de que se le hace una petición GET, de dicha respuesta se debe extraer cierta información detallada del sitio tal como: el servidor en el que está alojado el sitio, el tipo de codificación del contenido, el tipo de contenido, la IP pública del sitio, etc. La información recopilada debe ser almacenada de forma que se pueda disponer de ella a través de una persistencia (base de datos, almacenamiento físico, etc), es decir que la información se debe encapsular en cierto tipo de objetos definidos por el usuario."
   ]
  },
  {
   "cell_type": "code",
   "execution_count": 2,
   "metadata": {},
   "outputs": [
    {
     "name": "stdout",
     "output_type": "stream",
     "text": [
      "IP:  172.217.30.196\n",
      "Servidor:  gws\n",
      "Tipo de contenido:  gzip\n",
      "Codificaciòn:  ISO-8859-1\n",
      "\n",
      "IP:  200.24.17.25\n",
      "Servidor:  None\n",
      "Tipo de contenido:  gzip\n",
      "Codificaciòn:  UTF-8\n",
      "\n",
      "IP:  200.13.235.198\n",
      "Servidor:  Apache/2.4.6 (CentOS) OpenSSL/1.0.2k-fips PHP/5.6.40\n",
      "Tipo de contenido:  None\n",
      "Codificaciòn:  UTF-8\n",
      "\n",
      "IP:  104.130.33.5\n",
      "Servidor:  nginx/1.14.0\n",
      "Tipo de contenido:  gzip\n",
      "Codificaciòn:  ISO-8859-1\n",
      "\n"
     ]
    }
   ],
   "source": [
    "import requests \n",
    "import socket\n",
    "\n",
    "class solicitud:\n",
    "    def __init__(self,URL):\n",
    "        self.__ip=socket.gethostbyname(URL)\n",
    "        self.__URL11=  \"https://\"+ URL\n",
    "        self.__URL1 = requests.get(url = self.__URL11)\n",
    "        self.__Server = self.__URL1.headers.setdefault('Server','None')\n",
    "        self.__ConEn = self.__URL1.headers.setdefault('Content-Encoding','None')\n",
    "        self.__Condi = self.__URL1.encoding\n",
    "        \n",
    "    def Mostrar(self):\n",
    "        print(\"IP: \",self.__ip)\n",
    "        print(\"Servidor: \",self.__Server)\n",
    "        print(\"Tipo de contenido: \",self.__ConEn)\n",
    "        print(\"Codificaciòn: \",self.__Condi)\n",
    "sitios= [\"www.google.com\",\"www.udea.edu.co\",\"www.itm.edu.co\",\"www.elcolombiano.com\"]        \n",
    "for sitio in sitios:\n",
    "    Datos = solicitud(sitio)\n",
    "    Datos.Mostrar()\n",
    "    print('')"
   ]
  },
  {
   "cell_type": "code",
   "execution_count": null,
   "metadata": {},
   "outputs": [],
   "source": []
  }
 ],
 "metadata": {
  "kernelspec": {
   "display_name": "Python 3",
   "language": "python",
   "name": "python3"
  },
  "language_info": {
   "codemirror_mode": {
    "name": "ipython",
    "version": 3
   },
   "file_extension": ".py",
   "mimetype": "text/x-python",
   "name": "python",
   "nbconvert_exporter": "python",
   "pygments_lexer": "ipython3",
   "version": "3.6.7"
  }
 },
 "nbformat": 4,
 "nbformat_minor": 2
}
